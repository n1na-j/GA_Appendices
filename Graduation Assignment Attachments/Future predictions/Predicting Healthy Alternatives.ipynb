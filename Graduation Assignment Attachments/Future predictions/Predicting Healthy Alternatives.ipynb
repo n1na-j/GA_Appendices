{
 "cells": [
  {
   "cell_type": "markdown",
   "metadata": {},
   "source": [
    "### Import necessary libraries"
   ]
  },
  {
   "cell_type": "code",
   "execution_count": 2,
   "metadata": {},
   "outputs": [],
   "source": [
    "import pandas as pd\n",
    "import numpy as np\n",
    "import matplotlib.pyplot as plt\n",
    "import seaborn as sns\n",
    "%matplotlib inline\n",
    "\n",
    "# File system manangement\n",
    "import os\n",
    "\n",
    "from sklearn.preprocessing import LabelEncoder\n",
    "from sklearn.model_selection import train_test_split\n",
    "from sklearn.linear_model import LogisticRegression\n",
    "from sklearn.metrics import accuracy_score\n",
    "from sklearn.model_selection import cross_val_score\n",
    "from sklearn.metrics import classification_report\n",
    "\n",
    "\n",
    "# Suppress warnings \n",
    "import warnings\n",
    "warnings.filterwarnings('ignore')"
   ]
  },
  {
   "cell_type": "markdown",
   "metadata": {},
   "source": [
    "### Inspect the data"
   ]
  },
  {
   "cell_type": "code",
   "execution_count": 5,
   "metadata": {},
   "outputs": [
    {
     "name": "stdout",
     "output_type": "stream",
     "text": [
      "Training data shape:  (3399, 16)\n"
     ]
    },
    {
     "data": {
      "text/html": [
       "<div>\n",
       "<style scoped>\n",
       "    .dataframe tbody tr th:only-of-type {\n",
       "        vertical-align: middle;\n",
       "    }\n",
       "\n",
       "    .dataframe tbody tr th {\n",
       "        vertical-align: top;\n",
       "    }\n",
       "\n",
       "    .dataframe thead th {\n",
       "        text-align: right;\n",
       "    }\n",
       "</style>\n",
       "<table border=\"1\" class=\"dataframe\">\n",
       "  <thead>\n",
       "    <tr style=\"text-align: right;\">\n",
       "      <th></th>\n",
       "      <th>Unnamed: 0</th>\n",
       "      <th>Title</th>\n",
       "      <th>Nutri-Score</th>\n",
       "      <th>Description</th>\n",
       "      <th>Price</th>\n",
       "      <th>Price_cat</th>\n",
       "      <th>BIO</th>\n",
       "      <th>Low_sugar</th>\n",
       "      <th>Low_fat</th>\n",
       "      <th>Plant_based</th>\n",
       "      <th>Glutenfree</th>\n",
       "      <th>Fairtrade</th>\n",
       "      <th>UTZ</th>\n",
       "      <th>Vegan</th>\n",
       "      <th>Vegetarian</th>\n",
       "      <th>Bought</th>\n",
       "    </tr>\n",
       "  </thead>\n",
       "  <tbody>\n",
       "    <tr>\n",
       "      <th>0</th>\n",
       "      <td>0</td>\n",
       "      <td>AH Komkommer</td>\n",
       "      <td>Nutri-Score A</td>\n",
       "      <td>Komkommer</td>\n",
       "      <td>0.95</td>\n",
       "      <td>Low budget</td>\n",
       "      <td>0</td>\n",
       "      <td>0</td>\n",
       "      <td>0</td>\n",
       "      <td>0</td>\n",
       "      <td>0</td>\n",
       "      <td>0</td>\n",
       "      <td>0</td>\n",
       "      <td>0</td>\n",
       "      <td>0</td>\n",
       "      <td>0</td>\n",
       "    </tr>\n",
       "    <tr>\n",
       "      <th>1</th>\n",
       "      <td>1</td>\n",
       "      <td>AH Bananen</td>\n",
       "      <td>Nutri-Score A</td>\n",
       "      <td>Bananen°°Rainforest Alliance gecertificeerd. Z...</td>\n",
       "      <td>1.39</td>\n",
       "      <td>Low budget</td>\n",
       "      <td>0</td>\n",
       "      <td>0</td>\n",
       "      <td>0</td>\n",
       "      <td>0</td>\n",
       "      <td>0</td>\n",
       "      <td>0</td>\n",
       "      <td>0</td>\n",
       "      <td>0</td>\n",
       "      <td>0</td>\n",
       "      <td>0</td>\n",
       "    </tr>\n",
       "    <tr>\n",
       "      <th>2</th>\n",
       "      <td>2</td>\n",
       "      <td>AH Mandarijnen</td>\n",
       "      <td>Nutri-Score A</td>\n",
       "      <td>Mandarijnen</td>\n",
       "      <td>2.39</td>\n",
       "      <td>Medium budget</td>\n",
       "      <td>0</td>\n",
       "      <td>0</td>\n",
       "      <td>0</td>\n",
       "      <td>0</td>\n",
       "      <td>0</td>\n",
       "      <td>0</td>\n",
       "      <td>0</td>\n",
       "      <td>0</td>\n",
       "      <td>0</td>\n",
       "      <td>0</td>\n",
       "    </tr>\n",
       "    <tr>\n",
       "      <th>3</th>\n",
       "      <td>3</td>\n",
       "      <td>AH Courgette</td>\n",
       "      <td>Nutri-Score A</td>\n",
       "      <td>Courgette</td>\n",
       "      <td>1.09</td>\n",
       "      <td>Low budget</td>\n",
       "      <td>0</td>\n",
       "      <td>0</td>\n",
       "      <td>0</td>\n",
       "      <td>0</td>\n",
       "      <td>0</td>\n",
       "      <td>0</td>\n",
       "      <td>0</td>\n",
       "      <td>0</td>\n",
       "      <td>0</td>\n",
       "      <td>0</td>\n",
       "    </tr>\n",
       "    <tr>\n",
       "      <th>4</th>\n",
       "      <td>4</td>\n",
       "      <td>AH Broccoli</td>\n",
       "      <td>Nutri-Score A</td>\n",
       "      <td>Broccoli - Klasse 1</td>\n",
       "      <td>1.25</td>\n",
       "      <td>Low budget</td>\n",
       "      <td>0</td>\n",
       "      <td>0</td>\n",
       "      <td>0</td>\n",
       "      <td>0</td>\n",
       "      <td>0</td>\n",
       "      <td>0</td>\n",
       "      <td>0</td>\n",
       "      <td>0</td>\n",
       "      <td>0</td>\n",
       "      <td>0</td>\n",
       "    </tr>\n",
       "  </tbody>\n",
       "</table>\n",
       "</div>"
      ],
      "text/plain": [
       "   Unnamed: 0           Title    Nutri-Score  \\\n",
       "0           0    AH Komkommer  Nutri-Score A   \n",
       "1           1      AH Bananen  Nutri-Score A   \n",
       "2           2  AH Mandarijnen  Nutri-Score A   \n",
       "3           3    AH Courgette  Nutri-Score A   \n",
       "4           4     AH Broccoli  Nutri-Score A   \n",
       "\n",
       "                                         Description  Price      Price_cat  \\\n",
       "0                                          Komkommer   0.95     Low budget   \n",
       "1  Bananen°°Rainforest Alliance gecertificeerd. Z...   1.39     Low budget   \n",
       "2                                        Mandarijnen   2.39  Medium budget   \n",
       "3                                          Courgette   1.09     Low budget   \n",
       "4                                Broccoli - Klasse 1   1.25     Low budget   \n",
       "\n",
       "   BIO  Low_sugar  Low_fat  Plant_based  Glutenfree  Fairtrade  UTZ  Vegan  \\\n",
       "0    0          0        0            0           0          0    0      0   \n",
       "1    0          0        0            0           0          0    0      0   \n",
       "2    0          0        0            0           0          0    0      0   \n",
       "3    0          0        0            0           0          0    0      0   \n",
       "4    0          0        0            0           0          0    0      0   \n",
       "\n",
       "   Vegetarian  Bought  \n",
       "0           0       0  \n",
       "1           0       0  \n",
       "2           0       0  \n",
       "3           0       0  \n",
       "4           0       0  "
      ]
     },
     "execution_count": 5,
     "metadata": {},
     "output_type": "execute_result"
    }
   ],
   "source": [
    "# Training Data\n",
    "train = pd.read_excel(r\"C:\\Users\\ninaj\\Documents\\Data-Driven Design Y2\\Graduation Project\\PHASE 2\\Week 5\\LR\\labelled_products_bought.xlsx\")\n",
    "print('Training data shape: ', train.shape)\n",
    "train.head()"
   ]
  },
  {
   "cell_type": "code",
   "execution_count": 6,
   "metadata": {},
   "outputs": [
    {
     "name": "stdout",
     "output_type": "stream",
     "text": [
      "Testing data shape:  (182, 15)\n"
     ]
    },
    {
     "data": {
      "text/html": [
       "<div>\n",
       "<style scoped>\n",
       "    .dataframe tbody tr th:only-of-type {\n",
       "        vertical-align: middle;\n",
       "    }\n",
       "\n",
       "    .dataframe tbody tr th {\n",
       "        vertical-align: top;\n",
       "    }\n",
       "\n",
       "    .dataframe thead th {\n",
       "        text-align: right;\n",
       "    }\n",
       "</style>\n",
       "<table border=\"1\" class=\"dataframe\">\n",
       "  <thead>\n",
       "    <tr style=\"text-align: right;\">\n",
       "      <th></th>\n",
       "      <th>Unnamed: 0</th>\n",
       "      <th>Title</th>\n",
       "      <th>Nutri-Score</th>\n",
       "      <th>Description</th>\n",
       "      <th>Price</th>\n",
       "      <th>Price_cat</th>\n",
       "      <th>BIO</th>\n",
       "      <th>Low_sugar</th>\n",
       "      <th>Low_fat</th>\n",
       "      <th>Plant_based</th>\n",
       "      <th>Glutenfree</th>\n",
       "      <th>Fairtrade</th>\n",
       "      <th>UTZ</th>\n",
       "      <th>Vegan</th>\n",
       "      <th>Vegetarian</th>\n",
       "    </tr>\n",
       "  </thead>\n",
       "  <tbody>\n",
       "    <tr>\n",
       "      <th>0</th>\n",
       "      <td>523</td>\n",
       "      <td>AH Maaltijdsalade gado gado</td>\n",
       "      <td>Nutri-Score A</td>\n",
       "      <td>Maaltijdsalademet 16% aangezuurde gele rijst, ...</td>\n",
       "      <td>4.99</td>\n",
       "      <td>High budget</td>\n",
       "      <td>0</td>\n",
       "      <td>0</td>\n",
       "      <td>0</td>\n",
       "      <td>1</td>\n",
       "      <td>0</td>\n",
       "      <td>0</td>\n",
       "      <td>0</td>\n",
       "      <td>0</td>\n",
       "      <td>1</td>\n",
       "    </tr>\n",
       "    <tr>\n",
       "      <th>1</th>\n",
       "      <td>619</td>\n",
       "      <td>AH Vegetarische rode curry</td>\n",
       "      <td>Nutri-Score B</td>\n",
       "      <td>Maaltijd met 48% gekookte jasmijn- en witte ri...</td>\n",
       "      <td>4.99</td>\n",
       "      <td>High budget</td>\n",
       "      <td>0</td>\n",
       "      <td>0</td>\n",
       "      <td>0</td>\n",
       "      <td>1</td>\n",
       "      <td>0</td>\n",
       "      <td>0</td>\n",
       "      <td>0</td>\n",
       "      <td>0</td>\n",
       "      <td>1</td>\n",
       "    </tr>\n",
       "    <tr>\n",
       "      <th>2</th>\n",
       "      <td>2755</td>\n",
       "      <td>AH Texmex</td>\n",
       "      <td>Nutri-Score A</td>\n",
       "      <td>Mexicaans gekruide tomatensoep met 16% kidneyb...</td>\n",
       "      <td>1.89</td>\n",
       "      <td>Medium budget</td>\n",
       "      <td>0</td>\n",
       "      <td>0</td>\n",
       "      <td>0</td>\n",
       "      <td>0</td>\n",
       "      <td>0</td>\n",
       "      <td>0</td>\n",
       "      <td>0</td>\n",
       "      <td>0</td>\n",
       "      <td>1</td>\n",
       "    </tr>\n",
       "    <tr>\n",
       "      <th>3</th>\n",
       "      <td>13</td>\n",
       "      <td>AH Biologisch bananen</td>\n",
       "      <td>Nutri-Score A</td>\n",
       "      <td>Bananen**Van biologische oorsprong. Fairtrade ...</td>\n",
       "      <td>1.99</td>\n",
       "      <td>Medium budget</td>\n",
       "      <td>1</td>\n",
       "      <td>0</td>\n",
       "      <td>0</td>\n",
       "      <td>0</td>\n",
       "      <td>0</td>\n",
       "      <td>1</td>\n",
       "      <td>0</td>\n",
       "      <td>0</td>\n",
       "      <td>0</td>\n",
       "    </tr>\n",
       "    <tr>\n",
       "      <th>4</th>\n",
       "      <td>21</td>\n",
       "      <td>AH Biologisch Komkommer</td>\n",
       "      <td>Nutri-Score A</td>\n",
       "      <td>Komkommer**Van biologische oorsprong. Skal 001...</td>\n",
       "      <td>1.39</td>\n",
       "      <td>Low budget</td>\n",
       "      <td>1</td>\n",
       "      <td>0</td>\n",
       "      <td>0</td>\n",
       "      <td>0</td>\n",
       "      <td>0</td>\n",
       "      <td>0</td>\n",
       "      <td>0</td>\n",
       "      <td>0</td>\n",
       "      <td>0</td>\n",
       "    </tr>\n",
       "  </tbody>\n",
       "</table>\n",
       "</div>"
      ],
      "text/plain": [
       "   Unnamed: 0                        Title    Nutri-Score  \\\n",
       "0         523  AH Maaltijdsalade gado gado  Nutri-Score A   \n",
       "1         619   AH Vegetarische rode curry  Nutri-Score B   \n",
       "2        2755                    AH Texmex  Nutri-Score A   \n",
       "3          13        AH Biologisch bananen  Nutri-Score A   \n",
       "4          21      AH Biologisch Komkommer  Nutri-Score A   \n",
       "\n",
       "                                         Description  Price      Price_cat  \\\n",
       "0  Maaltijdsalademet 16% aangezuurde gele rijst, ...   4.99    High budget   \n",
       "1  Maaltijd met 48% gekookte jasmijn- en witte ri...   4.99    High budget   \n",
       "2  Mexicaans gekruide tomatensoep met 16% kidneyb...   1.89  Medium budget   \n",
       "3  Bananen**Van biologische oorsprong. Fairtrade ...   1.99  Medium budget   \n",
       "4  Komkommer**Van biologische oorsprong. Skal 001...   1.39     Low budget   \n",
       "\n",
       "   BIO  Low_sugar  Low_fat  Plant_based  Glutenfree  Fairtrade  UTZ  Vegan  \\\n",
       "0    0          0        0            1           0          0    0      0   \n",
       "1    0          0        0            1           0          0    0      0   \n",
       "2    0          0        0            0           0          0    0      0   \n",
       "3    1          0        0            0           0          1    0      0   \n",
       "4    1          0        0            0           0          0    0      0   \n",
       "\n",
       "   Vegetarian  \n",
       "0           1  \n",
       "1           1  \n",
       "2           1  \n",
       "3           0  \n",
       "4           0  "
      ]
     },
     "execution_count": 6,
     "metadata": {},
     "output_type": "execute_result"
    }
   ],
   "source": [
    "# Test data\n",
    "test = pd.read_excel(r\"C:\\Users\\ninaj\\Documents\\Data-Driven Design Y2\\Graduation Project\\PHASE 2\\Week 5\\LR\\selected_products.xlsx\")\n",
    "print('Testing data shape: ', test.shape)\n",
    "test.head()"
   ]
  },
  {
   "cell_type": "markdown",
   "metadata": {},
   "source": [
    "### Exploratory Data Analysis"
   ]
  },
  {
   "cell_type": "markdown",
   "metadata": {},
   "source": [
    "### Inspecting the distribution of the target column (\"Bought\")"
   ]
  },
  {
   "cell_type": "code",
   "execution_count": 7,
   "metadata": {},
   "outputs": [
    {
     "data": {
      "text/plain": [
       "0    3299\n",
       "1     100\n",
       "Name: Bought, dtype: int64"
      ]
     },
     "execution_count": 7,
     "metadata": {},
     "output_type": "execute_result"
    }
   ],
   "source": [
    "train['Bought'].value_counts()"
   ]
  },
  {
   "cell_type": "markdown",
   "metadata": {},
   "source": [
    "100 from the 3299 products were bought. The graph below illustrates this distribution."
   ]
  },
  {
   "cell_type": "code",
   "execution_count": 8,
   "metadata": {},
   "outputs": [
    {
     "data": {
      "text/plain": [
       "<matplotlib.axes._subplots.AxesSubplot at 0x1675feff1c8>"
      ]
     },
     "execution_count": 8,
     "metadata": {},
     "output_type": "execute_result"
    },
    {
     "data": {
      "image/png": "[encoded data removed]",
      "text/plain": [
       "<Figure size 432x288 with 1 Axes>"
      ]
     },
     "metadata": {
      "needs_background": "light"
     },
     "output_type": "display_data"
    }
   ],
   "source": [
    "sns.countplot(x = 'Bought',data = train)"
   ]
  },
  {
   "cell_type": "code",
   "execution_count": 9,
   "metadata": {},
   "outputs": [
    {
     "data": {
      "image/png": "[encoded data removed]",
      "text/plain": [
       "<Figure size 432x288 with 1 Axes>"
      ]
     },
     "metadata": {
      "needs_background": "light"
     },
     "output_type": "display_data"
    },
    {
     "data": {
      "image/png": "[encoded data removed]",
      "text/plain": [
       "<Figure size 432x288 with 2 Axes>"
      ]
     },
     "metadata": {
      "needs_background": "light"
     },
     "output_type": "display_data"
    },
    {
     "data": {
      "image/png": "[encoded data removed]",
      "text/plain": [
       "<Figure size 432x288 with 2 Axes>"
      ]
     },
     "metadata": {
      "needs_background": "light"
     },
     "output_type": "display_data"
    },
    {
     "data": {
      "image/png": "[encoded data removed]",
      "text/plain": [
       "<Figure size 432x288 with 2 Axes>"
      ]
     },
     "metadata": {
      "needs_background": "light"
     },
     "output_type": "display_data"
    },
    {
     "data": {
      "image/png": "[encoded data removed]",
      "text/plain": [
       "<Figure size 432x288 with 2 Axes>"
      ]
     },
     "metadata": {
      "needs_background": "light"
     },
     "output_type": "display_data"
    }
   ],
   "source": [
    "cat_1 = 'BIO'\n",
    "cat_2 = 'UTZ'\n",
    "cat_3 = 'Low_sugar'\n",
    "cat_4 = 'Low_fat'\n",
    "cat_5 = 'Plant_based'\n",
    "cat_6 = 'Glutenfree'\n",
    "cat_7 = 'Fairtrade'\n",
    "cat_8 = 'Vegan'\n",
    "cat_9 = 'Vegetarian'\n",
    "\n",
    "\n",
    "sns.countplot(x = 'Bought',hue = cat_1, data = train)\n",
    "\n",
    "fig, ax =plt.subplots(1,2)\n",
    "sns.countplot(x = 'Bought',hue = cat_2, data = train, ax=ax[0])\n",
    "sns.countplot(x = 'Bought',hue = cat_3, data = train, ax=ax[1])\n",
    "fig.show()\n",
    "\n",
    "fig, ax =plt.subplots(1,2)\n",
    "sns.countplot(x = 'Bought',hue = cat_4, data = train, ax=ax[0])\n",
    "sns.countplot(x = 'Bought',hue = cat_5, data = train, ax=ax[1])\n",
    "fig.show()\n",
    "\n",
    "fig, ax =plt.subplots(1,2)\n",
    "sns.countplot(x = 'Bought',hue = cat_6, data = train, ax=ax[0])\n",
    "sns.countplot(x = 'Bought',hue = cat_7, data = train, ax=ax[1])\n",
    "fig.show()\n",
    "\n",
    "\n",
    "fig, ax =plt.subplots(1,2)\n",
    "sns.countplot(x = 'Bought',hue = cat_8, data = train, ax=ax[0])\n",
    "sns.countplot(x = 'Bought',hue = cat_9, data = train, ax=ax[1])\n",
    "fig.show()"
   ]
  },
  {
   "cell_type": "markdown",
   "metadata": {},
   "source": [
    "Based on the plots above we can say that:\n",
    "- Biological products are the most frequenttly bought products compared to the other labels. \n",
    "- The majority of the dataset does not include any label \n",
    "- Biological and plant based products are the most frequentely labelled products in general"
   ]
  },
  {
   "cell_type": "code",
   "execution_count": 10,
   "metadata": {},
   "outputs": [
    {
     "data": {
      "text/plain": [
       "<matplotlib.axes._subplots.AxesSubplot at 0x1675fd6a4c8>"
      ]
     },
     "execution_count": 10,
     "metadata": {},
     "output_type": "execute_result"
    },
    {
     "data": {
      "image/png": "[encoded data removed]",
      "text/plain": [
       "<Figure size 432x288 with 1 Axes>"
      ]
     },
     "metadata": {
      "needs_background": "light"
     },
     "output_type": "display_data"
    }
   ],
   "source": [
    "sns.countplot(x = 'Bought',hue = 'Price_cat',data = train)"
   ]
  },
  {
   "cell_type": "markdown",
   "metadata": {},
   "source": [
    "The price category indicates whether a product is labelled as \"Low budget\" (< 1.25 euros), \"Medium budget\" (1.25 - 2.25 euros) or \"High budget\"(> 2.25 euros). Based on the plot above we can say that the most frequentely bought products are classified as medium budget and the distribution of high budget products is very low. "
   ]
  },
  {
   "cell_type": "markdown",
   "metadata": {},
   "source": [
    "### Check missing values"
   ]
  },
  {
   "cell_type": "code",
   "execution_count": 11,
   "metadata": {},
   "outputs": [
    {
     "name": "stdout",
     "output_type": "stream",
     "text": [
      "Check missing values in train set\n",
      "Unnamed: 0     0\n",
      "Title          0\n",
      "Nutri-Score    0\n",
      "Description    0\n",
      "Price          0\n",
      "Price_cat      0\n",
      "BIO            0\n",
      "Low_sugar      0\n",
      "Low_fat        0\n",
      "Plant_based    0\n",
      "Glutenfree     0\n",
      "Fairtrade      0\n",
      "UTZ            0\n",
      "Vegan          0\n",
      "Vegetarian     0\n",
      "Bought         0\n",
      "dtype: int64\n",
      "---------------------\n",
      "Check missing values in test set\n",
      "Unnamed: 0     0\n",
      "Title          0\n",
      "Nutri-Score    0\n",
      "Description    0\n",
      "Price          0\n",
      "Price_cat      0\n",
      "BIO            0\n",
      "Low_sugar      0\n",
      "Low_fat        0\n",
      "Plant_based    0\n",
      "Glutenfree     0\n",
      "Fairtrade      0\n",
      "UTZ            0\n",
      "Vegan          0\n",
      "Vegetarian     0\n",
      "dtype: int64\n"
     ]
    }
   ],
   "source": [
    "print(\"Check missing values in train set\")\n",
    "print(train.isnull().sum())\n",
    "print(\"---------------------\")\n",
    "print(\"Check missing values in test set\")\n",
    "print(test.isnull().sum())"
   ]
  },
  {
   "cell_type": "markdown",
   "metadata": {},
   "source": [
    "The table above shows no data is missing."
   ]
  },
  {
   "cell_type": "markdown",
   "metadata": {},
   "source": [
    "### Categorical variables"
   ]
  },
  {
   "cell_type": "code",
   "execution_count": 12,
   "metadata": {},
   "outputs": [],
   "source": [
    "def create_dummies(df,column_name):\n",
    "    dummies = pd.get_dummies(df[column_name],prefix=column_name)\n",
    "    df = pd.concat([df,dummies],axis=1)\n",
    "    return df\n",
    "\n",
    "for column in [\"Nutri-Score\", \"Price_cat\"]:\n",
    "    train = create_dummies(train,column)\n",
    "    test = create_dummies(test,column)"
   ]
  },
  {
   "cell_type": "markdown",
   "metadata": {},
   "source": [
    "### Drop unnecessary columns"
   ]
  },
  {
   "cell_type": "code",
   "execution_count": 13,
   "metadata": {},
   "outputs": [],
   "source": [
    "# train.drop(['Title','Nutri-Score','Price_cat', \n",
    "#           'Plant_based', 'Glutenfree', 'Fairtrade', 'UTZ', 'Vegan', 'Vegetarian'],inplace=True,axis=1)\n",
    "# test.drop(['Title','Nutri-Score','Price_cat',\n",
    "#           'Plant_based', 'Glutenfree', 'Fairtrade', 'UTZ', 'Vegan', 'Vegetarian'],inplace=True,axis=1)"
   ]
  },
  {
   "cell_type": "markdown",
   "metadata": {},
   "source": [
    "### Logistic Regression"
   ]
  },
  {
   "cell_type": "code",
   "execution_count": 14,
   "metadata": {},
   "outputs": [
    {
     "data": {
      "text/plain": [
       "LogisticRegression(C=1.0, class_weight=None, dual=False, fit_intercept=True,\n",
       "                   intercept_scaling=1, l1_ratio=None, max_iter=100,\n",
       "                   multi_class='auto', n_jobs=None, penalty='l2',\n",
       "                   random_state=None, solver='lbfgs', tol=0.0001, verbose=0,\n",
       "                   warm_start=False)"
      ]
     },
     "execution_count": 14,
     "metadata": {},
     "output_type": "execute_result"
    }
   ],
   "source": [
    "lr = LogisticRegression()\n",
    "columns = ['BIO', \n",
    "          'Plant_based', 'Glutenfree', 'Fairtrade', 'UTZ', 'Vegan', 'Vegetarian'\n",
    "          ]\n",
    "\n",
    "lr.fit(train[columns], train[\"Bought\"])"
   ]
  },
  {
   "cell_type": "markdown",
   "metadata": {},
   "source": [
    "### Validation set"
   ]
  },
  {
   "cell_type": "code",
   "execution_count": 15,
   "metadata": {},
   "outputs": [],
   "source": [
    "X = train[columns]\n",
    "y = train['Bought']\n",
    "\n",
    "train_X, val_X, train_y, val_y = train_test_split(\n",
    "    X, y, test_size=0.20,random_state=0)"
   ]
  },
  {
   "cell_type": "markdown",
   "metadata": {},
   "source": [
    "### Predictions and accuracy"
   ]
  },
  {
   "cell_type": "code",
   "execution_count": 16,
   "metadata": {},
   "outputs": [
    {
     "name": "stdout",
     "output_type": "stream",
     "text": [
      "0.9735294117647059\n",
      "              precision    recall  f1-score   support\n",
      "\n",
      "           0       0.97      1.00      0.99       662\n",
      "           1       0.00      0.00      0.00        18\n",
      "\n",
      "    accuracy                           0.97       680\n",
      "   macro avg       0.49      0.50      0.49       680\n",
      "weighted avg       0.95      0.97      0.96       680\n",
      "\n"
     ]
    }
   ],
   "source": [
    "lr = LogisticRegression()\n",
    "lr.fit(train_X, train_y)\n",
    "predictions = lr.predict(val_X)\n",
    "accuracy = accuracy_score(val_y, predictions)\n",
    "print(accuracy)\n",
    "from sklearn.metrics import classification_report\n",
    "print(classification_report(val_y,predictions))"
   ]
  },
  {
   "cell_type": "markdown",
   "metadata": {},
   "source": [
    "### Cross validations for error measurement"
   ]
  },
  {
   "cell_type": "code",
   "execution_count": 17,
   "metadata": {},
   "outputs": [
    {
     "name": "stdout",
     "output_type": "stream",
     "text": [
      "[0.97050147 0.97058824 0.97058824 0.97058824 0.97058824 0.97058824\n",
      " 0.97058824 0.97058824 0.97058824 0.97058824]\n",
      "0.9705795592573313\n"
     ]
    }
   ],
   "source": [
    "lr = LogisticRegression()\n",
    "scores = cross_val_score(lr, X, y, cv=10)\n",
    "scores.sort()\n",
    "accuracy = scores.mean()\n",
    "\n",
    "print(scores)\n",
    "print(accuracy)"
   ]
  },
  {
   "cell_type": "markdown",
   "metadata": {},
   "source": [
    "### Predictions of test set"
   ]
  },
  {
   "cell_type": "code",
   "execution_count": 18,
   "metadata": {},
   "outputs": [],
   "source": [
    "lr = LogisticRegression()\n",
    "lr.fit(X,y)\n",
    "predictions_test = lr.predict(test[columns])"
   ]
  },
  {
   "cell_type": "markdown",
   "metadata": {},
   "source": [
    "### Bought products"
   ]
  },
  {
   "cell_type": "code",
   "execution_count": 19,
   "metadata": {},
   "outputs": [
    {
     "data": {
      "text/html": [
       "<div>\n",
       "<style scoped>\n",
       "    .dataframe tbody tr th:only-of-type {\n",
       "        vertical-align: middle;\n",
       "    }\n",
       "\n",
       "    .dataframe tbody tr th {\n",
       "        vertical-align: top;\n",
       "    }\n",
       "\n",
       "    .dataframe thead th {\n",
       "        text-align: right;\n",
       "    }\n",
       "</style>\n",
       "<table border=\"1\" class=\"dataframe\">\n",
       "  <thead>\n",
       "    <tr style=\"text-align: right;\">\n",
       "      <th></th>\n",
       "      <th>Title</th>\n",
       "      <th>Bought</th>\n",
       "    </tr>\n",
       "  </thead>\n",
       "  <tbody>\n",
       "    <tr>\n",
       "      <th>0</th>\n",
       "      <td>AH Maaltijdsalade gado gado</td>\n",
       "      <td>0</td>\n",
       "    </tr>\n",
       "    <tr>\n",
       "      <th>1</th>\n",
       "      <td>AH Vegetarische rode curry</td>\n",
       "      <td>0</td>\n",
       "    </tr>\n",
       "    <tr>\n",
       "      <th>2</th>\n",
       "      <td>AH Texmex</td>\n",
       "      <td>0</td>\n",
       "    </tr>\n",
       "    <tr>\n",
       "      <th>3</th>\n",
       "      <td>AH Biologisch bananen</td>\n",
       "      <td>0</td>\n",
       "    </tr>\n",
       "    <tr>\n",
       "      <th>4</th>\n",
       "      <td>AH Biologisch Komkommer</td>\n",
       "      <td>0</td>\n",
       "    </tr>\n",
       "  </tbody>\n",
       "</table>\n",
       "</div>"
      ],
      "text/plain": [
       "                         Title  Bought\n",
       "0  AH Maaltijdsalade gado gado       0\n",
       "1   AH Vegetarische rode curry       0\n",
       "2                    AH Texmex       0\n",
       "3        AH Biologisch bananen       0\n",
       "4      AH Biologisch Komkommer       0"
      ]
     },
     "execution_count": 19,
     "metadata": {},
     "output_type": "execute_result"
    }
   ],
   "source": [
    "bought_df = pd.DataFrame({'Title' : test['Title'],\n",
    "                              'Bought':predictions_test})\n",
    "bought_df.head()"
   ]
  },
  {
   "cell_type": "code",
   "execution_count": 20,
   "metadata": {},
   "outputs": [],
   "source": [
    "bought_df.to_csv(\"bought.csv\",index=False)"
   ]
  }
 ],
 "metadata": {
  "kernelspec": {
   "display_name": "Python 3",
   "language": "python",
   "name": "python3"
  },
  "language_info": {
   "codemirror_mode": {
    "name": "ipython",
    "version": 3
   },
   "file_extension": ".py",
   "mimetype": "text/x-python",
   "name": "python",
   "nbconvert_exporter": "python",
   "pygments_lexer": "ipython3",
   "version": "3.7.6"
  }
 },
 "nbformat": 4,
 "nbformat_minor": 4
}
