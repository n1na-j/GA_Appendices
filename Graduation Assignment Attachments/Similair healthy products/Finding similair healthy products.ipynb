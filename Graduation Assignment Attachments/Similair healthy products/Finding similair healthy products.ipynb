{
 "cells": [
  {
   "cell_type": "markdown",
   "metadata": {},
   "source": [
    "# Finding similair healthy products\n",
    "\n",
    "Inspired by P. Sharma (2021)"
   ]
  },
  {
   "cell_type": "markdown",
   "metadata": {},
   "source": [
    "#### Import the libraries"
   ]
  },
  {
   "cell_type": "code",
   "execution_count": 2,
   "metadata": {},
   "outputs": [],
   "source": [
    "import numpy as np\n",
    "import pandas as pd\n",
    "import matplotlib as plt\n",
    "from spacy.lang.nl.stop_words import STOP_WORDS as nl_stop\n",
    "from sklearn.feature_extraction.text import TfidfVectorizer\n",
    "from sklearn.metrics.pairwise import linear_kernel\n",
    "from sklearn.feature_extraction.text import CountVectorizer \n",
    "from sklearn.metrics.pairwise import cosine_similarity\n"
   ]
  },
  {
   "cell_type": "markdown",
   "metadata": {},
   "source": [
    "#### Read the dataset"
   ]
  },
  {
   "cell_type": "code",
   "execution_count": 4,
   "metadata": {
    "scrolled": true
   },
   "outputs": [
    {
     "data": {
      "text/html": [
       "<div>\n",
       "<style scoped>\n",
       "    .dataframe tbody tr th:only-of-type {\n",
       "        vertical-align: middle;\n",
       "    }\n",
       "\n",
       "    .dataframe tbody tr th {\n",
       "        vertical-align: top;\n",
       "    }\n",
       "\n",
       "    .dataframe thead th {\n",
       "        text-align: right;\n",
       "    }\n",
       "</style>\n",
       "<table border=\"1\" class=\"dataframe\">\n",
       "  <thead>\n",
       "    <tr style=\"text-align: right;\">\n",
       "      <th></th>\n",
       "      <th>Unnamed: 0</th>\n",
       "      <th>Unnamed: 0.1</th>\n",
       "      <th>Title</th>\n",
       "      <th>Nutri-Score</th>\n",
       "      <th>Description</th>\n",
       "      <th>Price</th>\n",
       "    </tr>\n",
       "  </thead>\n",
       "  <tbody>\n",
       "    <tr>\n",
       "      <th>0</th>\n",
       "      <td>0</td>\n",
       "      <td>0</td>\n",
       "      <td>AH Verse tagliatelle all'uovo</td>\n",
       "      <td>Nutri-Score A</td>\n",
       "      <td>Verse eierpasta</td>\n",
       "      <td>2.09</td>\n",
       "    </tr>\n",
       "    <tr>\n",
       "      <th>1</th>\n",
       "      <td>1</td>\n",
       "      <td>1</td>\n",
       "      <td>AH Verspakket erwtensoep</td>\n",
       "      <td>Nutri-Score A</td>\n",
       "      <td>Kookpakket voor het maken van erwtensoepmet ee...</td>\n",
       "      <td>2.99</td>\n",
       "    </tr>\n",
       "    <tr>\n",
       "      <th>2</th>\n",
       "      <td>2</td>\n",
       "      <td>2</td>\n",
       "      <td>AH Italiaanse lasagne verspakket</td>\n",
       "      <td>Nutri-Score A</td>\n",
       "      <td>Kookpakket voor het maken van lasagne met 10% ...</td>\n",
       "      <td>4.99</td>\n",
       "    </tr>\n",
       "    <tr>\n",
       "      <th>3</th>\n",
       "      <td>3</td>\n",
       "      <td>3</td>\n",
       "      <td>AH Verse spaghetti all'uovo</td>\n",
       "      <td>Nutri-Score A</td>\n",
       "      <td>Verse eierpasta</td>\n",
       "      <td>2.09</td>\n",
       "    </tr>\n",
       "    <tr>\n",
       "      <th>4</th>\n",
       "      <td>4</td>\n",
       "      <td>4</td>\n",
       "      <td>AH Indiase curry madras verspakket</td>\n",
       "      <td>Nutri-Score A</td>\n",
       "      <td>Kookpakket voor curry met een pakje kokosmelk ...</td>\n",
       "      <td>4.99</td>\n",
       "    </tr>\n",
       "  </tbody>\n",
       "</table>\n",
       "</div>"
      ],
      "text/plain": [
       "   Unnamed: 0  Unnamed: 0.1                               Title  \\\n",
       "0           0             0       AH Verse tagliatelle all'uovo   \n",
       "1           1             1            AH Verspakket erwtensoep   \n",
       "2           2             2    AH Italiaanse lasagne verspakket   \n",
       "3           3             3         AH Verse spaghetti all'uovo   \n",
       "4           4             4  AH Indiase curry madras verspakket   \n",
       "\n",
       "     Nutri-Score                                        Description  Price  \n",
       "0  Nutri-Score A                                    Verse eierpasta   2.09  \n",
       "1  Nutri-Score A  Kookpakket voor het maken van erwtensoepmet ee...   2.99  \n",
       "2  Nutri-Score A  Kookpakket voor het maken van lasagne met 10% ...   4.99  \n",
       "3  Nutri-Score A                                    Verse eierpasta   2.09  \n",
       "4  Nutri-Score A  Kookpakket voor curry met een pakje kokosmelk ...   4.99  "
      ]
     },
     "execution_count": 4,
     "metadata": {},
     "output_type": "execute_result"
    }
   ],
   "source": [
    "df1 = pd.read_excel(r\"C:\\Users\\ninaj\\Documents\\Data-Driven Design Y2\\Graduation Project\\Week 7\\RS\\Webscraping\\ah_products_extended_Large_V2.xlsx\")\n",
    "df1.head()"
   ]
  },
  {
   "cell_type": "markdown",
   "metadata": {},
   "source": [
    "#### Clean the dataset\n"
   ]
  },
  {
   "cell_type": "code",
   "execution_count": 5,
   "metadata": {},
   "outputs": [
    {
     "data": {
      "text/html": [
       "<div>\n",
       "<style scoped>\n",
       "    .dataframe tbody tr th:only-of-type {\n",
       "        vertical-align: middle;\n",
       "    }\n",
       "\n",
       "    .dataframe tbody tr th {\n",
       "        vertical-align: top;\n",
       "    }\n",
       "\n",
       "    .dataframe thead th {\n",
       "        text-align: right;\n",
       "    }\n",
       "</style>\n",
       "<table border=\"1\" class=\"dataframe\">\n",
       "  <thead>\n",
       "    <tr style=\"text-align: right;\">\n",
       "      <th></th>\n",
       "      <th>Unnamed: 0</th>\n",
       "      <th>Unnamed: 0.1</th>\n",
       "      <th>Title</th>\n",
       "      <th>Nutri-Score</th>\n",
       "      <th>Description</th>\n",
       "      <th>Price</th>\n",
       "    </tr>\n",
       "  </thead>\n",
       "  <tbody>\n",
       "    <tr>\n",
       "      <th>1927</th>\n",
       "      <td>1927</td>\n",
       "      <td>218</td>\n",
       "      <td>AH 1 Minuut basmati rijst</td>\n",
       "      <td>Nutri-Score B</td>\n",
       "      <td>Gekookte basmati rijst</td>\n",
       "      <td>1.55</td>\n",
       "    </tr>\n",
       "    <tr>\n",
       "      <th>1948</th>\n",
       "      <td>1948</td>\n",
       "      <td>239</td>\n",
       "      <td>AH 1 Minuut witte rijst</td>\n",
       "      <td>Nutri-Score B</td>\n",
       "      <td>Gekookte witte rijst</td>\n",
       "      <td>1.25</td>\n",
       "    </tr>\n",
       "    <tr>\n",
       "      <th>3321</th>\n",
       "      <td>3321</td>\n",
       "      <td>128</td>\n",
       "      <td>AH 100% Haver volkoren</td>\n",
       "      <td>Nutri-Score A</td>\n",
       "      <td>Gepofte volkoren haver</td>\n",
       "      <td>1.59</td>\n",
       "    </tr>\n",
       "    <tr>\n",
       "      <th>3260</th>\n",
       "      <td>3260</td>\n",
       "      <td>67</td>\n",
       "      <td>AH 100% Pindakaas extra grof</td>\n",
       "      <td>Nutri-Score A</td>\n",
       "      <td>100% pindakaas</td>\n",
       "      <td>2.35</td>\n",
       "    </tr>\n",
       "    <tr>\n",
       "      <th>3311</th>\n",
       "      <td>3311</td>\n",
       "      <td>118</td>\n",
       "      <td>AH 100% Pindakaas stukjes</td>\n",
       "      <td>Nutri-Score A</td>\n",
       "      <td>Pindakaas met stukjes pinda</td>\n",
       "      <td>4.99</td>\n",
       "    </tr>\n",
       "    <tr>\n",
       "      <th>3252</th>\n",
       "      <td>3252</td>\n",
       "      <td>59</td>\n",
       "      <td>AH 100% pindakaas</td>\n",
       "      <td>Nutri-Score A</td>\n",
       "      <td>Pindakaas</td>\n",
       "      <td>4.99</td>\n",
       "    </tr>\n",
       "    <tr>\n",
       "      <th>3274</th>\n",
       "      <td>3274</td>\n",
       "      <td>81</td>\n",
       "      <td>AH 100% volkoren durumtarwe gepoft</td>\n",
       "      <td>Nutri-Score A</td>\n",
       "      <td>Gepofte volkoren durumtarwe</td>\n",
       "      <td>1.59</td>\n",
       "    </tr>\n",
       "    <tr>\n",
       "      <th>3253</th>\n",
       "      <td>3253</td>\n",
       "      <td>60</td>\n",
       "      <td>AH 100% volkoren spelt gepoft</td>\n",
       "      <td>Nutri-Score A</td>\n",
       "      <td>Gepofte volkoren spelt</td>\n",
       "      <td>1.59</td>\n",
       "    </tr>\n",
       "    <tr>\n",
       "      <th>2819</th>\n",
       "      <td>2819</td>\n",
       "      <td>1338</td>\n",
       "      <td>AH 3V5 Wasabi bollen</td>\n",
       "      <td>Nutri-Score D</td>\n",
       "      <td>Pittige, gecoate pinda's met 0,1% wasabipoeder</td>\n",
       "      <td>2.15</td>\n",
       "    </tr>\n",
       "    <tr>\n",
       "      <th>3445</th>\n",
       "      <td>3445</td>\n",
       "      <td>280</td>\n",
       "      <td>AH 4 vruchten fruitspread minder suiker</td>\n",
       "      <td>Nutri-Score C</td>\n",
       "      <td>FruitspreadBereid met 20 g aardbei, 17 g kers,...</td>\n",
       "      <td>1.99</td>\n",
       "    </tr>\n",
       "  </tbody>\n",
       "</table>\n",
       "</div>"
      ],
      "text/plain": [
       "      Unnamed: 0  Unnamed: 0.1                                    Title  \\\n",
       "1927        1927           218                AH 1 Minuut basmati rijst   \n",
       "1948        1948           239                  AH 1 Minuut witte rijst   \n",
       "3321        3321           128                   AH 100% Haver volkoren   \n",
       "3260        3260            67             AH 100% Pindakaas extra grof   \n",
       "3311        3311           118                AH 100% Pindakaas stukjes   \n",
       "3252        3252            59                        AH 100% pindakaas   \n",
       "3274        3274            81       AH 100% volkoren durumtarwe gepoft   \n",
       "3253        3253            60            AH 100% volkoren spelt gepoft   \n",
       "2819        2819          1338                     AH 3V5 Wasabi bollen   \n",
       "3445        3445           280  AH 4 vruchten fruitspread minder suiker   \n",
       "\n",
       "        Nutri-Score                                        Description  Price  \n",
       "1927  Nutri-Score B                             Gekookte basmati rijst   1.55  \n",
       "1948  Nutri-Score B                               Gekookte witte rijst   1.25  \n",
       "3321  Nutri-Score A                             Gepofte volkoren haver   1.59  \n",
       "3260  Nutri-Score A                                     100% pindakaas   2.35  \n",
       "3311  Nutri-Score A                        Pindakaas met stukjes pinda   4.99  \n",
       "3252  Nutri-Score A                                          Pindakaas   4.99  \n",
       "3274  Nutri-Score A                        Gepofte volkoren durumtarwe   1.59  \n",
       "3253  Nutri-Score A                             Gepofte volkoren spelt   1.59  \n",
       "2819  Nutri-Score D     Pittige, gecoate pinda's met 0,1% wasabipoeder   2.15  \n",
       "3445  Nutri-Score C  FruitspreadBereid met 20 g aardbei, 17 g kers,...   1.99  "
      ]
     },
     "execution_count": 5,
     "metadata": {},
     "output_type": "execute_result"
    }
   ],
   "source": [
    "# Remove duplicates\n",
    "df1.sort_values(\"Title\", inplace = True)\n",
    " \n",
    "# dropping ALL duplicate values\n",
    "df1.drop_duplicates(subset =\"Title\",\n",
    "                     keep = False, inplace = True)\n",
    "\n",
    "df1.head(10)"
   ]
  },
  {
   "cell_type": "markdown",
   "metadata": {},
   "source": [
    "#### Get an overview of the description column\n",
    "We want to find a similiarty between the description in order to predict a similar product."
   ]
  },
  {
   "cell_type": "code",
   "execution_count": 6,
   "metadata": {},
   "outputs": [
    {
     "data": {
      "text/plain": [
       "1927                               Gekookte basmati rijst\n",
       "1948                                 Gekookte witte rijst\n",
       "3321                               Gepofte volkoren haver\n",
       "3260                                       100% pindakaas\n",
       "3311                          Pindakaas met stukjes pinda\n",
       "3252                                            Pindakaas\n",
       "3274                          Gepofte volkoren durumtarwe\n",
       "3253                               Gepofte volkoren spelt\n",
       "2819       Pittige, gecoate pinda's met 0,1% wasabipoeder\n",
       "3445    FruitspreadBereid met 20 g aardbei, 17 g kers,...\n",
       "Name: Description, dtype: object"
      ]
     },
     "execution_count": 6,
     "metadata": {},
     "output_type": "execute_result"
    }
   ],
   "source": [
    "df1['Description'].head(10)"
   ]
  },
  {
   "cell_type": "markdown",
   "metadata": {},
   "source": [
    "#### Converting words into vectors\n",
    "We want to convert words into vector in order to get meaningul insights from the data. Based on the similarity, the words will be put together. Each word will be getting a magnitude and a direction in a 3D-space, which will determine how similar words are. \n",
    "\n",
    "The vectors will be computed by Term Frequency-Inverse Document Frequency. This is a statistical measure to evaluate how important a word is in the collection of all words. Term frequency can be defined as the number of times a word is counted in the collection of all words. Inverse Dcoument Frequency is a logarithm which measure how important a word is. "
   ]
  },
  {
   "cell_type": "code",
   "execution_count": 7,
   "metadata": {},
   "outputs": [
    {
     "data": {
      "text/plain": [
       "(2287, 2843)"
      ]
     },
     "execution_count": 7,
     "metadata": {},
     "output_type": "execute_result"
    }
   ],
   "source": [
    "# Remove all Dutch stop words\n",
    "stopwords_list = list(nl_stop)\n",
    "\n",
    "# Define the Term Frequency-Inverse Document Frequency object. \n",
    "tfidf = TfidfVectorizer(stop_words=stopwords_list)\n",
    "\n",
    "# Construct the required TF-TDF matrix by fitting and transforming the data\n",
    "tfidf_matrx = tfidf.fit_transform(df1['Description'].astype(str))\n",
    "\n",
    "# Output is the shape of tfidf_matrix\n",
    "tfidf_matrx.shape"
   ]
  },
  {
   "cell_type": "markdown",
   "metadata": {},
   "source": [
    "#### Cosine similarity \n",
    "The tfidf_matrix will be put into a cosine similarity made with the linear_kernel function. "
   ]
  },
  {
   "cell_type": "code",
   "execution_count": 8,
   "metadata": {},
   "outputs": [],
   "source": [
    "# Compute the cosine similarity matrix\n",
    "cosine_sim = linear_kernel(tfidf_matrx, tfidf_matrx)"
   ]
  },
  {
   "cell_type": "markdown",
   "metadata": {},
   "source": [
    "#### Reverse mapping\n",
    "A top 10 of most similar products will be made. Therefore, we need to make a function for the reverse mapping of the product titles and indices. This is needed to identify the index of a product. "
   ]
  },
  {
   "cell_type": "code",
   "execution_count": 9,
   "metadata": {},
   "outputs": [],
   "source": [
    "# Construct a reverse map of indices and products\n",
    "indices = pd.Series(df1.index, index=df1['Title']).drop_duplicates()"
   ]
  },
  {
   "cell_type": "code",
   "execution_count": 11,
   "metadata": {},
   "outputs": [],
   "source": [
    "# A function for creating a top 10 of similar products\n",
    "def get_recommendations(title, cosine=cosine_sim):\n",
    "    # Get the index of the product which matches the title\n",
    "    idx = indices[title]\n",
    "    \n",
    "    # Get the pairwise similarity scores of all products with that product\n",
    "    sim_scores = list(enumerate(cosine_sim[idx]))\n",
    "    \n",
    "    # Sort the products on the similarity scores\n",
    "    sim_scores= sorted(sim_scores, key=lambda x: x[1], reverse=True)\n",
    "    \n",
    "    # Get the scores of the 10 most similar products\n",
    "    sim_scors = sim_scores[1:11]\n",
    "    \n",
    "    # Get the product indices\n",
    "    product_indices = [i[0] for i in sim_scores]\n",
    "    \n",
    "    # Return the top 10 most similar products\n",
    "    return df1[['Title', 'Nutri-Score', 'Price']].iloc[product_indices]"
   ]
  },
  {
   "cell_type": "markdown",
   "metadata": {},
   "source": [
    "#### CountVectorizer\n",
    "We use the CountVectorizer to count the number of times a certain Nutri-Score appears. "
   ]
  },
  {
   "cell_type": "code",
   "execution_count": 13,
   "metadata": {},
   "outputs": [],
   "source": [
    "# Import CountVectorizer and create the count matrix\n",
    "count = CountVectorizer()\n",
    "count_matrix = count.fit_transform(df1['Nutri-Score'])"
   ]
  },
  {
   "cell_type": "code",
   "execution_count": 14,
   "metadata": {},
   "outputs": [],
   "source": [
    "# Compute the cosine similarity matrix based on the count_matrix\n",
    "cosine_sim2 = cosine_similarity(count_matrix, count_matrix)"
   ]
  },
  {
   "cell_type": "code",
   "execution_count": 15,
   "metadata": {},
   "outputs": [],
   "source": [
    "# Reset the indexof our main DataFrame and construct reverse mapping\n",
    "df1 = df1.reset_index()\n",
    "indices = pd.Series(df1.index, index=df1['Title'])"
   ]
  },
  {
   "cell_type": "code",
   "execution_count": 16,
   "metadata": {},
   "outputs": [
    {
     "data": {
      "text/plain": [
       "0    1.55\n",
       "1    1.25\n",
       "2    1.59\n",
       "3    2.35\n",
       "4    4.99\n",
       "5    4.99\n",
       "6    1.59\n",
       "7    1.59\n",
       "8    2.15\n",
       "9    1.99\n",
       "Name: Price, dtype: float64"
      ]
     },
     "execution_count": 16,
     "metadata": {},
     "output_type": "execute_result"
    }
   ],
   "source": [
    "# Make price readable\n",
    "df1['Price'].head(10)"
   ]
  },
  {
   "cell_type": "code",
   "execution_count": 17,
   "metadata": {},
   "outputs": [],
   "source": [
    "df1['Price'] = np.float32(df1['Price'])"
   ]
  },
  {
   "cell_type": "code",
   "execution_count": 18,
   "metadata": {
    "scrolled": true
   },
   "outputs": [
    {
     "data": {
      "text/html": [
       "<div>\n",
       "<style scoped>\n",
       "    .dataframe tbody tr th:only-of-type {\n",
       "        vertical-align: middle;\n",
       "    }\n",
       "\n",
       "    .dataframe tbody tr th {\n",
       "        vertical-align: top;\n",
       "    }\n",
       "\n",
       "    .dataframe thead th {\n",
       "        text-align: right;\n",
       "    }\n",
       "</style>\n",
       "<table border=\"1\" class=\"dataframe\">\n",
       "  <thead>\n",
       "    <tr style=\"text-align: right;\">\n",
       "      <th></th>\n",
       "      <th>Title</th>\n",
       "      <th>Nutri-Score</th>\n",
       "      <th>Price</th>\n",
       "    </tr>\n",
       "  </thead>\n",
       "  <tbody>\n",
       "    <tr>\n",
       "      <th>1099</th>\n",
       "      <td>AH Liefde &amp; Passie Beurre (ongesneden)</td>\n",
       "      <td>Nutri-Score A</td>\n",
       "      <td>1.39</td>\n",
       "    </tr>\n",
       "    <tr>\n",
       "      <th>60</th>\n",
       "      <td>AH Appeltaartpunten</td>\n",
       "      <td>Nutri-Score D</td>\n",
       "      <td>2.50</td>\n",
       "    </tr>\n",
       "    <tr>\n",
       "      <th>1033</th>\n",
       "      <td>AH Kokoskransen in toefzak roomboter</td>\n",
       "      <td>Nutri-Score D</td>\n",
       "      <td>1.39</td>\n",
       "    </tr>\n",
       "    <tr>\n",
       "      <th>2144</th>\n",
       "      <td>De Zaanse Hoeve Roomboter ongezouten</td>\n",
       "      <td>Nutri-Score E</td>\n",
       "      <td>2.09</td>\n",
       "    </tr>\n",
       "    <tr>\n",
       "      <th>2143</th>\n",
       "      <td>De Zaanse Hoeve Roomboter gezouten</td>\n",
       "      <td>Nutri-Score E</td>\n",
       "      <td>2.09</td>\n",
       "    </tr>\n",
       "    <tr>\n",
       "      <th>1188</th>\n",
       "      <td>AH Marmercake</td>\n",
       "      <td>Nutri-Score E</td>\n",
       "      <td>3.19</td>\n",
       "    </tr>\n",
       "    <tr>\n",
       "      <th>1559</th>\n",
       "      <td>AH Roomboter marmercake</td>\n",
       "      <td>Nutri-Score E</td>\n",
       "      <td>1.99</td>\n",
       "    </tr>\n",
       "    <tr>\n",
       "      <th>243</th>\n",
       "      <td>AH Biologisch Roomboter ongezouten</td>\n",
       "      <td>Nutri-Score E</td>\n",
       "      <td>2.75</td>\n",
       "    </tr>\n",
       "    <tr>\n",
       "      <th>159</th>\n",
       "      <td>AH Biologisch Gezouten roomboter</td>\n",
       "      <td>Nutri-Score E</td>\n",
       "      <td>2.75</td>\n",
       "    </tr>\n",
       "    <tr>\n",
       "      <th>1974</th>\n",
       "      <td>AH Zaanlander Kaasvlinder</td>\n",
       "      <td>Nutri-Score E</td>\n",
       "      <td>2.69</td>\n",
       "    </tr>\n",
       "  </tbody>\n",
       "</table>\n",
       "</div>"
      ],
      "text/plain": [
       "                                       Title    Nutri-Score  Price\n",
       "1099  AH Liefde & Passie Beurre (ongesneden)  Nutri-Score A   1.39\n",
       "60                       AH Appeltaartpunten  Nutri-Score D   2.50\n",
       "1033    AH Kokoskransen in toefzak roomboter  Nutri-Score D   1.39\n",
       "2144    De Zaanse Hoeve Roomboter ongezouten  Nutri-Score E   2.09\n",
       "2143      De Zaanse Hoeve Roomboter gezouten  Nutri-Score E   2.09\n",
       "1188                           AH Marmercake  Nutri-Score E   3.19\n",
       "1559                 AH Roomboter marmercake  Nutri-Score E   1.99\n",
       "243       AH Biologisch Roomboter ongezouten  Nutri-Score E   2.75\n",
       "159         AH Biologisch Gezouten roomboter  Nutri-Score E   2.75\n",
       "1974               AH Zaanlander Kaasvlinder  Nutri-Score E   2.69"
      ]
     },
     "execution_count": 18,
     "metadata": {},
     "output_type": "execute_result"
    }
   ],
   "source": [
    "get_recommendations('AH Roomboter ongezouten')[1:11].sort_values(['Nutri-Score'], ascending=[True]).head(10)"
   ]
  },
  {
   "cell_type": "markdown",
   "metadata": {},
   "source": [
    "## Adding interactions\n",
    "\n",
    "Now we can make a function for interaction between the potential user and this functionallity. Therefore, we need to:\n",
    "\n",
    "- Create a function for the user input; \n",
    "- Find products from the dataset similar to the users' input\n",
    "- Suggest healthy products, including the Nutri-Score label and price.  "
   ]
  },
  {
   "cell_type": "markdown",
   "metadata": {},
   "source": [
    "#### User input\n",
    "\n",
    "The user input, in this case, can be seen as a grcoery list where users need to add products to a grocery list. "
   ]
  },
  {
   "cell_type": "code",
   "execution_count": 19,
   "metadata": {},
   "outputs": [],
   "source": [
    "grocery_list = []"
   ]
  },
  {
   "cell_type": "code",
   "execution_count": null,
   "metadata": {},
   "outputs": [],
   "source": [
    "user_input = input(\"Voeg (eetbare) producten toe aan je boodschappenlijstje.\")"
   ]
  },
  {
   "cell_type": "code",
   "execution_count": null,
   "metadata": {},
   "outputs": [],
   "source": [
    "grocery_list.append(user_input)"
   ]
  },
  {
   "cell_type": "code",
   "execution_count": null,
   "metadata": {},
   "outputs": [],
   "source": [
    "print(grocery_list)"
   ]
  },
  {
   "cell_type": "markdown",
   "metadata": {},
   "source": [
    "#### Find similar products"
   ]
  },
  {
   "cell_type": "code",
   "execution_count": 22,
   "metadata": {},
   "outputs": [],
   "source": [
    "# With the library difflib.get_close_matches, user input will be matched with existing products from the dataset\n",
    "import difflib"
   ]
  },
  {
   "cell_type": "code",
   "execution_count": 23,
   "metadata": {},
   "outputs": [],
   "source": [
    "words = df1['Title']\n",
    "\n",
    "match_list = difflib.get_close_matches(user_input, words)"
   ]
  },
  {
   "cell_type": "code",
   "execution_count": 24,
   "metadata": {},
   "outputs": [
    {
     "name": "stdout",
     "output_type": "stream",
     "text": [
      "[]\n"
     ]
    }
   ],
   "source": [
    "# The user has to choose from one of the suggestions above in real life \n",
    "chosen_item = match_list\n",
    "print(chosen_item)"
   ]
  },
  {
   "cell_type": "code",
   "execution_count": 25,
   "metadata": {},
   "outputs": [
    {
     "ename": "IndexError",
     "evalue": "list index out of range",
     "output_type": "error",
     "traceback": [
      "\u001b[1;31m---------------------------------------------------------------------------\u001b[0m",
      "\u001b[1;31mIndexError\u001b[0m                                Traceback (most recent call last)",
      "\u001b[1;32m<ipython-input-25-8a10d6e1bb24>\u001b[0m in \u001b[0;36m<module>\u001b[1;34m\u001b[0m\n\u001b[1;32m----> 1\u001b[1;33m \u001b[0mget_recommendations\u001b[0m\u001b[1;33m(\u001b[0m\u001b[0mchosen_item\u001b[0m\u001b[1;33m[\u001b[0m\u001b[1;36m1\u001b[0m\u001b[1;33m]\u001b[0m\u001b[1;33m)\u001b[0m\u001b[1;33m[\u001b[0m\u001b[1;36m1\u001b[0m\u001b[1;33m:\u001b[0m\u001b[1;36m11\u001b[0m\u001b[1;33m]\u001b[0m\u001b[1;33m.\u001b[0m\u001b[0msort_values\u001b[0m\u001b[1;33m(\u001b[0m\u001b[1;33m[\u001b[0m\u001b[1;34m'Nutri-Score'\u001b[0m\u001b[1;33m]\u001b[0m\u001b[1;33m,\u001b[0m \u001b[0mascending\u001b[0m\u001b[1;33m=\u001b[0m\u001b[1;33m[\u001b[0m\u001b[1;32mTrue\u001b[0m\u001b[1;33m]\u001b[0m\u001b[1;33m)\u001b[0m\u001b[1;33m.\u001b[0m\u001b[0mhead\u001b[0m\u001b[1;33m(\u001b[0m\u001b[1;36m10\u001b[0m\u001b[1;33m)\u001b[0m\u001b[1;33m\u001b[0m\u001b[1;33m\u001b[0m\u001b[0m\n\u001b[0m\u001b[0;32m      2\u001b[0m \u001b[1;33m\u001b[0m\u001b[0m\n",
      "\u001b[1;31mIndexError\u001b[0m: list index out of range"
     ]
    }
   ],
   "source": [
    "get_recommendations(chosen_item[1])[1:11].sort_values(['Nutri-Score'], ascending=[True]).head(10)\n",
    "\n"
   ]
  },
  {
   "cell_type": "markdown",
   "metadata": {},
   "source": [
    "#### Suggesting healthy products"
   ]
  },
  {
   "cell_type": "code",
   "execution_count": 41,
   "metadata": {},
   "outputs": [
    {
     "name": "stdout",
     "output_type": "stream",
     "text": [
      "[index                                                        1088\n",
      "Unnamed: 0                                                   1088\n",
      "Unnamed: 0.1                                                 1268\n",
      "Title                                       Isey Gezouten karamel\n",
      "Nutri-Score                                         Nutri-Score A\n",
      "Description     Skyr licht gezouten caramel. Bevat suiker en z...\n",
      "Price                                                        2.29\n",
      "soup                                    N u t r i - S c o r e   A\n",
      "Name: 2224, dtype: object, index                                            3391\n",
      "Unnamed: 0                                       3391\n",
      "Unnamed: 0.1                                      214\n",
      "Title            AH Aardbei fruitspread minder suiker\n",
      "Nutri-Score                             Nutri-Score C\n",
      "Description     Aardbei fruitspread met minder suiker\n",
      "Price                                            1.99\n",
      "soup                        N u t r i - S c o r e   C\n",
      "Name: 19, dtype: object]\n"
     ]
    }
   ],
   "source": [
    "# The user has to choose from one of the recommendations above\n",
    "# print(df1.loc[2224])\n",
    "healthy_products = [df1.loc[2224], df1.loc[19]]\n",
    "\n",
    "print(healthy_products)"
   ]
  },
  {
   "cell_type": "markdown",
   "metadata": {},
   "source": [
    "# Literature\n",
    "Sharma, P. (2021, November 17). Content Based Recommender System: Part 2. Machine Mantra. Retrieved 4 January 2022, from https://machinemantra.in/content-based-recommender-system/"
   ]
  }
 ],
 "metadata": {
  "kernelspec": {
   "display_name": "Python 3",
   "language": "python",
   "name": "python3"
  },
  "language_info": {
   "codemirror_mode": {
    "name": "ipython",
    "version": 3
   },
   "file_extension": ".py",
   "mimetype": "text/x-python",
   "name": "python",
   "nbconvert_exporter": "python",
   "pygments_lexer": "ipython3",
   "version": "3.7.6"
  }
 },
 "nbformat": 4,
 "nbformat_minor": 4
}
